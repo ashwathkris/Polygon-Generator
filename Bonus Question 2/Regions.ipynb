{
  "nbformat": 4,
  "nbformat_minor": 0,
  "metadata": {
    "colab": {
      "name": "regions",
      "provenance": [],
      "collapsed_sections": []
    },
    "kernelspec": {
      "name": "python3",
      "display_name": "Python 3"
    },
    "language_info": {
      "name": "python"
    }
  },
  "cells": [
    {
      "cell_type": "code",
      "metadata": {
        "id": "DjYqMorZIi1v"
      },
      "source": [
        "import math, random\n",
        "from shapely.geometry import Point\n",
        "from shapely.geometry.polygon import Polygon\n",
        "import pandas as pd\n",
        "import numpy as np\n",
        "import pandas as pd\n",
        "from matplotlib import pyplot as plt\n",
        "from sklearn.cluster import KMeans\n",
        "import matplotlib.pyplot as plt\n",
        "\n",
        "def generatePolygon( ctrX, ctrY, aveRadius, irregularity, spikeyness, numVerts ) :\n",
        "    irregularity =  irregularity * 2*math.pi / numVerts\n",
        "    spikeyness = spikeyness * aveRadius\n",
        "    # generate n angle steps\n",
        "    angleSteps = []\n",
        "    lower = (2*math.pi / numVerts) - irregularity\n",
        "    upper = (2*math.pi / numVerts) + irregularity\n",
        "    sum = 0\n",
        "    for i in range(numVerts) :\n",
        "        tmp = random.uniform(lower, upper)\n",
        "        angleSteps.append( tmp )\n",
        "        sum = sum + tmp\n",
        "    # normalize the steps so that point 0 and point n+1 are the same\n",
        "    k = sum / (2*math.pi)\n",
        "    for i in range(numVerts) :\n",
        "        angleSteps[i] = angleSteps[i] / k\n",
        "    # now generate the points\n",
        "    points = []\n",
        "    angle = random.uniform(0, 2*math.pi)\n",
        "    for i in range(numVerts) :\n",
        "        r_i =  random.gauss(aveRadius, spikeyness)\n",
        "        x =  ctrX + r_i*math.cos(angle)\n",
        "        y = ctrY + r_i*math.sin(angle)\n",
        "        points.append( (int(x),int(y)) )\n",
        "        angle = angle + angleSteps[i]\n",
        "\n",
        "    return points\n",
        "\n",
        "verts = generatePolygon( ctrX=100, ctrY=100, aveRadius=200, irregularity=1, spikeyness=0.11, numVerts=50 )\n",
        "pa = Polygon(verts)"
      ],
      "execution_count": 1,
      "outputs": []
    },
    {
      "cell_type": "code",
      "metadata": {
        "id": "hSqQvTuzQSzN"
      },
      "source": [
        "    xs = [i[0] for i in verts]\n",
        "    ys = [i[1] for i in verts] \n",
        "    minx, maxx = min(xs), max(xs)\n",
        "    miny, maxy = min(ys), max(ys)"
      ],
      "execution_count": 2,
      "outputs": []
    },
    {
      "cell_type": "code",
      "metadata": {
        "id": "UjkFjGCDSva8"
      },
      "source": [
        "p=[]\n",
        "for i in range(round(minx),round(maxx)):\n",
        "  for j in range(round(miny),round(maxy)):\n",
        "    po = Point(i,j)\n",
        "    if(pa.contains(po)):\n",
        "      p.append([i,j])\n",
        "import matplotlib.pyplot as plt\n",
        "x = [i[0] for i in p]\n",
        "y = [i[1] for i in p] \n",
        "#plt.scatter(x,y)"
      ],
      "execution_count": 10,
      "outputs": []
    },
    {
      "cell_type": "markdown",
      "metadata": {
        "id": "ohD8neUzWQpM"
      },
      "source": [
        "***K-MEANS CLUSTERING***"
      ]
    },
    {
      "cell_type": "code",
      "metadata": {
        "id": "IIh3bnXWai4t"
      },
      "source": [
        "X = np.asarray(p)\n",
        "n_regions = 20\n",
        "kmeans = KMeans(n_clusters = n_regions, init = 'k-means++', random_state = 42)\n",
        "y_kmeans = kmeans.fit_predict(X)"
      ],
      "execution_count": 7,
      "outputs": []
    },
    {
      "cell_type": "code",
      "metadata": {
        "colab": {
          "base_uri": "https://localhost:8080/"
        },
        "id": "a4P5ys0DPvyX",
        "outputId": "9c9154c5-1711-4ba8-d8ae-b879fc66263c"
      },
      "source": [
        "colors = ['yellowgreen','khaki','cornflowerblue','darkgrey']\n",
        "regions = ['Grasslands','Agriculture','Water Bodies','Constructed Buildings']\n",
        "a = [0]*4\n",
        "for i in range(4):\n",
        "  print('Enter Percentage coverage of ', regions[i],\": \")\n",
        "  a[i] = int(input())"
      ],
      "execution_count": 8,
      "outputs": [
        {
          "output_type": "stream",
          "text": [
            "Enter Percentage coverage of  Grasslands : \n",
            "30\n",
            "Enter Percentage coverage of  Agriculture : \n",
            "20\n",
            "Enter Percentage coverage of  Water Bodies : \n",
            "20\n",
            "Enter Percentage coverage of  Constructed Buildings : \n",
            "30\n"
          ],
          "name": "stdout"
        }
      ]
    },
    {
      "cell_type": "code",
      "metadata": {
        "colab": {
          "base_uri": "https://localhost:8080/",
          "height": 265
        },
        "id": "TA2c8cMaDGEx",
        "outputId": "a121b436-0249-40b1-b0b5-f16ffc025949"
      },
      "source": [
        "ind = 0\n",
        "for i in range(4):\n",
        "  r = (a[i]*n_regions)//100\n",
        "  for j in range(r):\n",
        "    plt.scatter(X[y_kmeans == ind, 0], X[y_kmeans == ind, 1], s = 100, c = colors[i])\n",
        "    a[i]-=1\n",
        "    ind+=1\n",
        "plt.show()"
      ],
      "execution_count": 9,
      "outputs": [
        {
          "output_type": "display_data",
          "data": {
            "image/png": "[encoded data removed]",
            "text/plain": [
              "<Figure size 432x288 with 1 Axes>"
            ]
          },
          "metadata": {
            "tags": [],
            "needs_background": "light"
          }
        }
      ]
    }
  ]
}